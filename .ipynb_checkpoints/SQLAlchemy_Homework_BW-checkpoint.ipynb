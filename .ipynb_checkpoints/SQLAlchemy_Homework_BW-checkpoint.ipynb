{
 "cells": [
  {
   "cell_type": "code",
   "execution_count": 1,
   "metadata": {},
   "outputs": [],
   "source": [
    "%matplotlib inline\n",
    "%matplotlib notebook\n",
    "from matplotlib import style\n",
    "style.use('fivethirtyeight')\n",
    "import matplotlib.pyplot as plt"
   ]
  },
  {
   "cell_type": "code",
   "execution_count": 2,
   "metadata": {},
   "outputs": [],
   "source": [
    "import numpy as np\n",
    "import pandas as pd"
   ]
  },
  {
   "cell_type": "code",
   "execution_count": 3,
   "metadata": {},
   "outputs": [],
   "source": [
    "import datetime as dt"
   ]
  },
  {
   "cell_type": "markdown",
   "metadata": {},
   "source": [
    "# Reflect Tables into SQLAlchemy ORM"
   ]
  },
  {
   "cell_type": "code",
   "execution_count": 33,
   "metadata": {},
   "outputs": [],
   "source": [
    "# Python SQL toolkit and Object Relational Mapper\n",
    "import sqlalchemy\n",
    "from sqlalchemy.ext.automap import automap_base\n",
    "from sqlalchemy.orm import Session\n",
    "from sqlalchemy import create_engine, func, inspect"
   ]
  },
  {
   "cell_type": "code",
   "execution_count": 34,
   "metadata": {},
   "outputs": [],
   "source": [
    "engine = create_engine(\"sqlite:///hawaii.sqlite\")"
   ]
  },
  {
   "cell_type": "code",
   "execution_count": 35,
   "metadata": {},
   "outputs": [],
   "source": [
    "# reflect an existing database into a new model\n",
    "Base = automap_base()\n",
    "# reflect the tables\n",
    "Base.prepare(engine, reflect=True)"
   ]
  },
  {
   "cell_type": "code",
   "execution_count": 36,
   "metadata": {},
   "outputs": [
    {
     "data": {
      "text/plain": [
       "['measurement', 'station']"
      ]
     },
     "execution_count": 36,
     "metadata": {},
     "output_type": "execute_result"
    }
   ],
   "source": [
    "# We can view all of the classes that automap found\n",
    "Base.classes.keys()"
   ]
  },
  {
   "cell_type": "code",
   "execution_count": 8,
   "metadata": {},
   "outputs": [],
   "source": [
    "# Save references to each table\n",
    "Measurement = Base.classes.measurement\n",
    "Station = Base.classes.station"
   ]
  },
  {
   "cell_type": "code",
   "execution_count": 9,
   "metadata": {},
   "outputs": [],
   "source": [
    "# Create our session (link) from Python to the DB\n",
    "session = Session(engine)"
   ]
  },
  {
   "cell_type": "markdown",
   "metadata": {},
   "source": [
    "# Exploratory Climate Analysis"
   ]
  },
  {
   "cell_type": "code",
   "execution_count": 10,
   "metadata": {},
   "outputs": [
    {
     "data": {
      "text/plain": [
       "{'_sa_instance_state': <sqlalchemy.orm.state.InstanceState at 0x11526ba58>,\n",
       " 'elevation': 3.0,\n",
       " 'longitude': -157.8168,\n",
       " 'name': 'WAIKIKI 717.2, HI US',\n",
       " 'id': 1,\n",
       " 'latitude': 21.2716,\n",
       " 'station': 'USC00519397'}"
      ]
     },
     "execution_count": 10,
     "metadata": {},
     "output_type": "execute_result"
    }
   ],
   "source": [
    "first_row = session.query(Station).first()\n",
    "first_row.__dict__\n"
   ]
  },
  {
   "cell_type": "code",
   "execution_count": 11,
   "metadata": {},
   "outputs": [
    {
     "data": {
      "text/plain": [
       "{'_sa_instance_state': <sqlalchemy.orm.state.InstanceState at 0x1152850f0>,\n",
       " 'prcp': 0.08,\n",
       " 'station': 'USC00519397',\n",
       " 'tobs': 65.0,\n",
       " 'date': '2010-01-01',\n",
       " 'id': 1}"
      ]
     },
     "execution_count": 11,
     "metadata": {},
     "output_type": "execute_result"
    }
   ],
   "source": [
    "first_row = session.query(Measurement).first()\n",
    "first_row.__dict__"
   ]
  },
  {
   "cell_type": "code",
   "execution_count": 18,
   "metadata": {},
   "outputs": [
    {
     "data": {
      "image/png": "[encoded data removed]",
      "text/plain": [
       "<Figure size 432x288 with 1 Axes>"
      ]
     },
     "metadata": {
      "needs_background": "light"
     },
     "output_type": "display_data"
    }
   ],
   "source": [
    "# Design a query to retrieve the last 12 months of precipitation data and plot the results\n",
    "# Perform a query to retrieve the data and precipitation scores\n",
    "data = session.query(Measurement.station, Measurement.date, Measurement.prcp).filter(Measurement.date > '2016-08-23').\\\n",
    "    order_by(Measurement.date).all()\n",
    "\n",
    "# Save the query results as a Pandas DataFrame and set the index to the date column\n",
    "df = pd.DataFrame(data, columns=['station', 'date', 'precipitation'])\n",
    "df.set_index('date', inplace=True)\n",
    "\n",
    "# Sort the dataframe by date\n",
    "sorted_df = df.sort_values(\"date\")\n",
    "sorted_df\n",
    "\n",
    "# Use Pandas Plotting with Matplotlib to plot the data\n",
    "sorted_df.plot.bar(width=15, label = \"Precipitation\")\n",
    "plt.tight_layout()\n",
    "plt.xticks([])\n",
    "plt.show()\n"
   ]
  },
  {
   "cell_type": "code",
   "execution_count": 19,
   "metadata": {},
   "outputs": [
    {
     "data": {
      "text/plain": [
       "('2010-01-01')"
      ]
     },
     "execution_count": 19,
     "metadata": {},
     "output_type": "execute_result"
    }
   ],
   "source": [
    "#Find earliest date\n",
    "earliest_date = session.query(Measurement.date).order_by(Measurement.date).first()\n",
    "earliest_date"
   ]
  },
  {
   "cell_type": "code",
   "execution_count": 20,
   "metadata": {},
   "outputs": [
    {
     "data": {
      "text/plain": [
       "('2017-08-23')"
      ]
     },
     "execution_count": 20,
     "metadata": {},
     "output_type": "execute_result"
    }
   ],
   "source": [
    "#Find latest date\n",
    "latest_date = session.query(Measurement.date).order_by(Measurement.date.desc()).first()\n",
    "latest_date"
   ]
  },
  {
   "cell_type": "code",
   "execution_count": 21,
   "metadata": {},
   "outputs": [
    {
     "name": "stdout",
     "output_type": "stream",
     "text": [
      "Query Date:  2016-08-23\n"
     ]
    }
   ],
   "source": [
    "# Calculate the date 1 year ago from the last data point in the database\n",
    "query_date = dt.date(2017, 8, 23) - dt.timedelta(days=365)\n",
    "print(\"Query Date: \", query_date)"
   ]
  },
  {
   "cell_type": "code",
   "execution_count": 22,
   "metadata": {},
   "outputs": [
    {
     "data": {
      "text/html": [
       "<div>\n",
       "<style scoped>\n",
       "    .dataframe tbody tr th:only-of-type {\n",
       "        vertical-align: middle;\n",
       "    }\n",
       "\n",
       "    .dataframe tbody tr th {\n",
       "        vertical-align: top;\n",
       "    }\n",
       "\n",
       "    .dataframe thead th {\n",
       "        text-align: right;\n",
       "    }\n",
       "</style>\n",
       "<table border=\"1\" class=\"dataframe\">\n",
       "  <thead>\n",
       "    <tr style=\"text-align: right;\">\n",
       "      <th></th>\n",
       "      <th>precipitation</th>\n",
       "    </tr>\n",
       "  </thead>\n",
       "  <tbody>\n",
       "    <tr>\n",
       "      <th>count</th>\n",
       "      <td>2015.000000</td>\n",
       "    </tr>\n",
       "    <tr>\n",
       "      <th>mean</th>\n",
       "      <td>0.176462</td>\n",
       "    </tr>\n",
       "    <tr>\n",
       "      <th>std</th>\n",
       "      <td>0.460288</td>\n",
       "    </tr>\n",
       "    <tr>\n",
       "      <th>min</th>\n",
       "      <td>0.000000</td>\n",
       "    </tr>\n",
       "    <tr>\n",
       "      <th>25%</th>\n",
       "      <td>0.000000</td>\n",
       "    </tr>\n",
       "    <tr>\n",
       "      <th>50%</th>\n",
       "      <td>0.020000</td>\n",
       "    </tr>\n",
       "    <tr>\n",
       "      <th>75%</th>\n",
       "      <td>0.130000</td>\n",
       "    </tr>\n",
       "    <tr>\n",
       "      <th>max</th>\n",
       "      <td>6.700000</td>\n",
       "    </tr>\n",
       "  </tbody>\n",
       "</table>\n",
       "</div>"
      ],
      "text/plain": [
       "       precipitation\n",
       "count    2015.000000\n",
       "mean        0.176462\n",
       "std         0.460288\n",
       "min         0.000000\n",
       "25%         0.000000\n",
       "50%         0.020000\n",
       "75%         0.130000\n",
       "max         6.700000"
      ]
     },
     "execution_count": 22,
     "metadata": {},
     "output_type": "execute_result"
    }
   ],
   "source": [
    "# Use Pandas to calcualte the summary statistics for the precipitation data\n",
    "sorted_df.describe()"
   ]
  },
  {
   "cell_type": "code",
   "execution_count": 23,
   "metadata": {},
   "outputs": [
    {
     "data": {
      "text/plain": [
       "9"
      ]
     },
     "execution_count": 23,
     "metadata": {},
     "output_type": "execute_result"
    }
   ],
   "source": [
    "# Design a query to show how many stations are available in this dataset?\n",
    "locations = session.query(Station.station).group_by(Station.station).count()\n",
    "locations"
   ]
  },
  {
   "cell_type": "code",
   "execution_count": 24,
   "metadata": {},
   "outputs": [
    {
     "name": "stdout",
     "output_type": "stream",
     "text": [
      "('USC00511918', 1979)\n",
      "('USC00513117', 2709)\n",
      "('USC00514830', 2202)\n",
      "('USC00516128', 2612)\n",
      "('USC00517948', 1372)\n",
      "('USC00518838', 511)\n",
      "('USC00519281', 2772)\n",
      "('USC00519397', 2724)\n",
      "('USC00519523', 2669)\n"
     ]
    }
   ],
   "source": [
    "# What are the most active stations? (i.e. what stations have the most rows)?\n",
    "# List the stations and the counts in descending order.\n",
    "for row in session.query(Measurement.station,func.count(Measurement.station)).group_by(Measurement.station).all():\n",
    "    print(row)"
   ]
  },
  {
   "cell_type": "code",
   "execution_count": 28,
   "metadata": {},
   "outputs": [
    {
     "name": "stdout",
     "output_type": "stream",
     "text": [
      "('USC00519281', 54.0, 85.0, 71.66378066378067)\n"
     ]
    }
   ],
   "source": [
    "# Using the station id from the previous query, calculate the lowest temperature recorded, \n",
    "# highest temperature recorded, and average temperature most active station?\n",
    "sel = [Measurement.station, \n",
    "       func.min(Measurement.tobs), \n",
    "       func.max(Measurement.tobs), \n",
    "       func.avg(Measurement.tobs)]\n",
    "\n",
    "most_active = 'USC00519281'\n",
    "\n",
    "for row in session.query(*sel).filter(Measurement.station == most_active).group_by(Measurement.station).all():\n",
    "    print(row)"
   ]
  },
  {
   "cell_type": "code",
   "execution_count": 29,
   "metadata": {},
   "outputs": [
    {
     "data": {
      "text/plain": [
       "[('USC00519281', '2016-08-24', 2.15),\n",
       " ('USC00519281', '2016-08-25', 0.06),\n",
       " ('USC00519281', '2016-08-26', 0.01),\n",
       " ('USC00519281', '2016-08-27', 0.12),\n",
       " ('USC00519281', '2016-08-28', 0.6),\n",
       " ('USC00519281', '2016-08-29', 0.35),\n",
       " ('USC00519281', '2016-08-30', 0.0),\n",
       " ('USC00519281', '2016-08-31', 0.24),\n",
       " ('USC00519281', '2016-09-01', 0.02),\n",
       " ('USC00519281', '2016-09-02', 0.01),\n",
       " ('USC00519281', '2016-09-03', 0.12),\n",
       " ('USC00519281', '2016-09-04', 0.14),\n",
       " ('USC00519281', '2016-09-05', 0.03),\n",
       " ('USC00519281', '2016-09-06', 0.11),\n",
       " ('USC00519281', '2016-09-07', 0.16),\n",
       " ('USC00519281', '2016-09-08', 0.07),\n",
       " ('USC00519281', '2016-09-09', 0.16),\n",
       " ('USC00519281', '2016-09-10', 0.09),\n",
       " ('USC00519281', '2016-09-11', 0.3),\n",
       " ('USC00519281', '2016-09-12', 0.31),\n",
       " ('USC00519281', '2016-09-13', 0.34),\n",
       " ('USC00519281', '2016-09-14', 2.33),\n",
       " ('USC00519281', '2016-09-15', 0.83),\n",
       " ('USC00519281', '2016-09-16', 0.06),\n",
       " ('USC00519281', '2016-09-17', 0.36),\n",
       " ('USC00519281', '2016-09-18', 0.07),\n",
       " ('USC00519281', '2016-09-19', 0.01),\n",
       " ('USC00519281', '2016-09-20', 0.22),\n",
       " ('USC00519281', '2016-09-21', 0.07),\n",
       " ('USC00519281', '2016-09-22', 0.34),\n",
       " ('USC00519281', '2016-09-23', 0.94),\n",
       " ('USC00519281', '2016-09-24', 0.01),\n",
       " ('USC00519281', '2016-09-25', 0.03),\n",
       " ('USC00519281', '2016-09-26', 0.17),\n",
       " ('USC00519281', '2016-09-27', 0.17),\n",
       " ('USC00519281', '2016-09-28', 0.0),\n",
       " ('USC00519281', '2016-09-29', 0.59),\n",
       " ('USC00519281', '2016-09-30', 0.25),\n",
       " ('USC00519281', '2016-10-01', 0.14),\n",
       " ('USC00519281', '2016-10-02', 0.06),\n",
       " ('USC00519281', '2016-10-03', 0.16),\n",
       " ('USC00519281', '2016-10-04', 0.03),\n",
       " ('USC00519281', '2016-10-05', 0.01),\n",
       " ('USC00519281', '2016-10-06', 0.0),\n",
       " ('USC00519281', '2016-10-07', 0.0),\n",
       " ('USC00519281', '2016-10-08', 0.0),\n",
       " ('USC00519281', '2016-10-09', 0.0),\n",
       " ('USC00519281', '2016-10-10', 0.0),\n",
       " ('USC00519281', '2016-10-11', 0.28),\n",
       " ('USC00519281', '2016-10-12', 0.03),\n",
       " ('USC00519281', '2016-10-13', 0.0),\n",
       " ('USC00519281', '2016-10-14', 0.0),\n",
       " ('USC00519281', '2016-10-15', 0.04),\n",
       " ('USC00519281', '2016-10-16', 0.0),\n",
       " ('USC00519281', '2016-10-17', 0.01),\n",
       " ('USC00519281', '2016-10-18', 0.02),\n",
       " ('USC00519281', '2016-10-19', 0.11),\n",
       " ('USC00519281', '2016-10-20', 0.0),\n",
       " ('USC00519281', '2016-10-21', 0.0),\n",
       " ('USC00519281', '2016-10-22', 0.15),\n",
       " ('USC00519281', '2016-10-23', 0.02),\n",
       " ('USC00519281', '2016-10-24', 0.08),\n",
       " ('USC00519281', '2016-10-25', 0.11),\n",
       " ('USC00519281', '2016-10-26', 0.01),\n",
       " ('USC00519281', '2016-10-27', 0.22),\n",
       " ('USC00519281', '2016-10-28', 0.05),\n",
       " ('USC00519281', '2016-10-29', 0.1),\n",
       " ('USC00519281', '2016-10-30', 0.16),\n",
       " ('USC00519281', '2016-10-31', 0.07),\n",
       " ('USC00519281', '2016-11-01', 0.1),\n",
       " ('USC00519281', '2016-11-02', 0.0),\n",
       " ('USC00519281', '2016-11-03', 0.0),\n",
       " ('USC00519281', '2016-11-04', 0.0),\n",
       " ('USC00519281', '2016-11-05', 0.03),\n",
       " ('USC00519281', '2016-11-06', 0.01),\n",
       " ('USC00519281', '2016-11-07', 0.0),\n",
       " ('USC00519281', '2016-11-08', 0.21),\n",
       " ('USC00519281', '2016-11-09', 0.11),\n",
       " ('USC00519281', '2016-11-10', 0.0),\n",
       " ('USC00519281', '2016-11-11', 0.0),\n",
       " ('USC00519281', '2016-11-12', 0.0),\n",
       " ('USC00519281', '2016-11-13', 0.0),\n",
       " ('USC00519281', '2016-11-14', 0.0),\n",
       " ('USC00519281', '2016-11-15', 0.0),\n",
       " ('USC00519281', '2016-11-16', 0.24),\n",
       " ('USC00519281', '2016-11-17', 0.01),\n",
       " ('USC00519281', '2016-11-18', 0.0),\n",
       " ('USC00519281', '2016-11-19', 0.11),\n",
       " ('USC00519281', '2016-11-20', 0.39),\n",
       " ('USC00519281', '2016-11-21', 0.11),\n",
       " ('USC00519281', '2016-11-22', 2.05),\n",
       " ('USC00519281', '2016-11-23', 0.25),\n",
       " ('USC00519281', '2016-11-24', 0.3),\n",
       " ('USC00519281', '2016-11-25', 0.08),\n",
       " ('USC00519281', '2016-11-26', 0.06),\n",
       " ('USC00519281', '2016-11-27', 0.17),\n",
       " ('USC00519281', '2016-11-28', 0.0),\n",
       " ('USC00519281', '2016-11-29', 0.09),\n",
       " ('USC00519281', '2016-11-30', 0.05),\n",
       " ('USC00519281', '2016-12-01', 0.37),\n",
       " ('USC00519281', '2016-12-02', 0.35),\n",
       " ('USC00519281', '2016-12-03', 0.77),\n",
       " ('USC00519281', '2016-12-04', 0.04),\n",
       " ('USC00519281', '2016-12-05', 0.22),\n",
       " ('USC00519281', '2016-12-06', 0.0),\n",
       " ('USC00519281', '2016-12-07', 0.12),\n",
       " ('USC00519281', '2016-12-08', 0.07),\n",
       " ('USC00519281', '2016-12-09', 0.31),\n",
       " ('USC00519281', '2016-12-10', 0.02),\n",
       " ('USC00519281', '2016-12-11', 0.0),\n",
       " ('USC00519281', '2016-12-12', 0.0),\n",
       " ('USC00519281', '2016-12-13', 0.04),\n",
       " ('USC00519281', '2016-12-14', 0.92),\n",
       " ('USC00519281', '2016-12-15', 0.14),\n",
       " ('USC00519281', '2016-12-16', 0.03),\n",
       " ('USC00519281', '2016-12-17', 0.07),\n",
       " ('USC00519281', '2016-12-18', 0.16),\n",
       " ('USC00519281', '2016-12-19', 0.03),\n",
       " ('USC00519281', '2016-12-20', 0.0),\n",
       " ('USC00519281', '2016-12-21', 0.11),\n",
       " ('USC00519281', '2016-12-22', 0.86),\n",
       " ('USC00519281', '2016-12-23', 0.24),\n",
       " ('USC00519281', '2016-12-24', 0.2),\n",
       " ('USC00519281', '2016-12-25', 0.02),\n",
       " ('USC00519281', '2016-12-26', 0.22),\n",
       " ('USC00519281', '2016-12-27', 0.05),\n",
       " ('USC00519281', '2016-12-28', 0.09),\n",
       " ('USC00519281', '2016-12-29', 0.52),\n",
       " ('USC00519281', '2016-12-30', 0.29),\n",
       " ('USC00519281', '2016-12-31', 0.25),\n",
       " ('USC00519281', '2017-01-01', 0.03),\n",
       " ('USC00519281', '2017-01-02', 0.01),\n",
       " ('USC00519281', '2017-01-03', 0.0),\n",
       " ('USC00519281', '2017-01-04', 0.0),\n",
       " ('USC00519281', '2017-01-05', 0.06),\n",
       " ('USC00519281', '2017-01-06', 0.1),\n",
       " ('USC00519281', '2017-01-07', 0.0),\n",
       " ('USC00519281', '2017-01-08', 0.0),\n",
       " ('USC00519281', '2017-01-09', 0.0),\n",
       " ('USC00519281', '2017-01-10', 0.0),\n",
       " ('USC00519281', '2017-01-11', 0.0),\n",
       " ('USC00519281', '2017-01-12', 0.0),\n",
       " ('USC00519281', '2017-01-13', 0.0),\n",
       " ('USC00519281', '2017-01-14', 0.01),\n",
       " ('USC00519281', '2017-01-15', 0.0),\n",
       " ('USC00519281', '2017-01-16', 0.0),\n",
       " ('USC00519281', '2017-01-17', 0.0),\n",
       " ('USC00519281', '2017-01-18', 0.0),\n",
       " ('USC00519281', '2017-01-19', 0.02),\n",
       " ('USC00519281', '2017-01-20', 0.0),\n",
       " ('USC00519281', '2017-01-21', 0.03),\n",
       " ('USC00519281', '2017-01-22', 0.09),\n",
       " ('USC00519281', '2017-01-23', 0.01),\n",
       " ('USC00519281', '2017-01-24', 0.13),\n",
       " ('USC00519281', '2017-01-25', 0.79),\n",
       " ('USC00519281', '2017-01-26', 0.0),\n",
       " ('USC00519281', '2017-01-27', 0.03),\n",
       " ('USC00519281', '2017-01-28', 0.0),\n",
       " ('USC00519281', '2017-01-29', 0.26),\n",
       " ('USC00519281', '2017-01-30', 0.0),\n",
       " ('USC00519281', '2017-01-31', 0.0),\n",
       " ('USC00519281', '2017-02-01', 0.0),\n",
       " ('USC00519281', '2017-02-02', 0.0),\n",
       " ('USC00519281', '2017-02-03', 0.0),\n",
       " ('USC00519281', '2017-02-04', 0.0),\n",
       " ('USC00519281', '2017-02-05', 0.0),\n",
       " ('USC00519281', '2017-02-06', 0.18),\n",
       " ('USC00519281', '2017-02-07', 1.32),\n",
       " ('USC00519281', '2017-02-08', 0.0),\n",
       " ('USC00519281', '2017-02-09', 0.0),\n",
       " ('USC00519281', '2017-02-10', 0.0),\n",
       " ('USC00519281', '2017-02-11', 1.73),\n",
       " ('USC00519281', '2017-02-12', 2.98),\n",
       " ('USC00519281', '2017-02-13', 0.01),\n",
       " ('USC00519281', '2017-02-14', 0.0),\n",
       " ('USC00519281', '2017-02-15', 0.01),\n",
       " ('USC00519281', '2017-02-16', 0.73),\n",
       " ('USC00519281', '2017-02-17', 0.13),\n",
       " ('USC00519281', '2017-02-18', 0.0),\n",
       " ('USC00519281', '2017-02-19', 0.09),\n",
       " ('USC00519281', '2017-02-20', 0.0),\n",
       " ('USC00519281', '2017-02-21', 0.0),\n",
       " ('USC00519281', '2017-02-22', 0.06),\n",
       " ('USC00519281', '2017-02-23', 0.0),\n",
       " ('USC00519281', '2017-02-24', 0.0),\n",
       " ('USC00519281', '2017-02-25', 0.0),\n",
       " ('USC00519281', '2017-02-26', 0.0),\n",
       " ('USC00519281', '2017-02-27', 0.0),\n",
       " ('USC00519281', '2017-02-28', 0.04),\n",
       " ('USC00519281', '2017-03-01', 2.12),\n",
       " ('USC00519281', '2017-03-02', 1.88),\n",
       " ('USC00519281', '2017-03-03', 0.27),\n",
       " ('USC00519281', '2017-03-04', 0.0),\n",
       " ('USC00519281', '2017-03-05', 0.41),\n",
       " ('USC00519281', '2017-03-06', 0.03),\n",
       " ('USC00519281', '2017-03-07', 0.0),\n",
       " ('USC00519281', '2017-03-08', 0.0),\n",
       " ('USC00519281', '2017-03-09', 0.65),\n",
       " ('USC00519281', '2017-03-10', 0.03),\n",
       " ('USC00519281', '2017-03-11', 0.01),\n",
       " ('USC00519281', '2017-03-12', 0.0),\n",
       " ('USC00519281', '2017-03-13', 0.0),\n",
       " ('USC00519281', '2017-03-14', 0.0),\n",
       " ('USC00519281', '2017-03-15', 0.06),\n",
       " ('USC00519281', '2017-03-16', 0.0),\n",
       " ('USC00519281', '2017-03-17', 0.12),\n",
       " ('USC00519281', '2017-03-18', 0.0),\n",
       " ('USC00519281', '2017-03-19', 0.0),\n",
       " ('USC00519281', '2017-03-20', 0.02),\n",
       " ('USC00519281', '2017-03-21', 0.09),\n",
       " ('USC00519281', '2017-03-22', 0.0),\n",
       " ('USC00519281', '2017-03-23', 0.0),\n",
       " ('USC00519281', '2017-03-24', 0.12),\n",
       " ('USC00519281', '2017-03-25', 0.93),\n",
       " ('USC00519281', '2017-03-26', 0.0),\n",
       " ('USC00519281', '2017-03-27', 0.01),\n",
       " ('USC00519281', '2017-03-28', 0.0),\n",
       " ('USC00519281', '2017-03-29', 0.01),\n",
       " ('USC00519281', '2017-03-30', 0.04),\n",
       " ('USC00519281', '2017-03-31', 0.01),\n",
       " ('USC00519281', '2017-04-01', 0.21),\n",
       " ('USC00519281', '2017-04-02', 0.0),\n",
       " ('USC00519281', '2017-04-03', 0.26),\n",
       " ('USC00519281', '2017-04-04', 0.09),\n",
       " ('USC00519281', '2017-04-05', 0.1),\n",
       " ('USC00519281', '2017-04-06', 0.06),\n",
       " ('USC00519281', '2017-04-07', 0.0),\n",
       " ('USC00519281', '2017-04-08', 0.0),\n",
       " ('USC00519281', '2017-04-09', 0.0),\n",
       " ('USC00519281', '2017-04-10', 0.01),\n",
       " ('USC00519281', '2017-04-11', 0.03),\n",
       " ('USC00519281', '2017-04-12', 0.11),\n",
       " ('USC00519281', '2017-04-13', 0.59),\n",
       " ('USC00519281', '2017-04-14', 2.3),\n",
       " ('USC00519281', '2017-04-15', 0.38),\n",
       " ('USC00519281', '2017-04-16', 0.47),\n",
       " ('USC00519281', '2017-04-17', 1.04),\n",
       " ('USC00519281', '2017-04-18', 2.03),\n",
       " ('USC00519281', '2017-04-19', 0.02),\n",
       " ('USC00519281', '2017-04-20', 0.05),\n",
       " ('USC00519281', '2017-04-21', 1.74),\n",
       " ('USC00519281', '2017-04-22', 1.58),\n",
       " ('USC00519281', '2017-04-23', 0.06),\n",
       " ('USC00519281', '2017-04-24', 0.01),\n",
       " ('USC00519281', '2017-04-25', 0.0),\n",
       " ('USC00519281', '2017-04-26', 0.02),\n",
       " ('USC00519281', '2017-04-27', 0.19),\n",
       " ('USC00519281', '2017-04-28', 0.76),\n",
       " ('USC00519281', '2017-04-29', 0.37),\n",
       " ('USC00519281', '2017-04-30', 1.04),\n",
       " ('USC00519281', '2017-05-01', 0.13),\n",
       " ('USC00519281', '2017-05-02', 0.01),\n",
       " ('USC00519281', '2017-05-03', 0.01),\n",
       " ('USC00519281', '2017-05-04', 0.0),\n",
       " ('USC00519281', '2017-05-05', 0.0),\n",
       " ('USC00519281', '2017-05-06', 0.0),\n",
       " ('USC00519281', '2017-05-07', 0.02),\n",
       " ('USC00519281', '2017-05-08', 0.73),\n",
       " ('USC00519281', '2017-05-09', 1.58),\n",
       " ('USC00519281', '2017-05-10', 0.2),\n",
       " ('USC00519281', '2017-05-11', 0.12),\n",
       " ('USC00519281', '2017-05-12', 0.02),\n",
       " ('USC00519281', '2017-05-13', 0.12),\n",
       " ('USC00519281', '2017-05-14', 0.17),\n",
       " ('USC00519281', '2017-05-15', 0.09),\n",
       " ('USC00519281', '2017-05-16', 0.03),\n",
       " ('USC00519281', '2017-05-17', 0.07),\n",
       " ('USC00519281', '2017-05-18', 0.13),\n",
       " ('USC00519281', '2017-05-19', 0.01),\n",
       " ('USC00519281', '2017-05-20', 0.02),\n",
       " ('USC00519281', '2017-05-21', 0.01),\n",
       " ('USC00519281', '2017-05-22', 0.06),\n",
       " ('USC00519281', '2017-05-23', 0.06),\n",
       " ('USC00519281', '2017-05-24', 0.3),\n",
       " ('USC00519281', '2017-05-25', 0.2),\n",
       " ('USC00519281', '2017-05-26', 0.0),\n",
       " ('USC00519281', '2017-05-27', 0.0),\n",
       " ('USC00519281', '2017-05-28', 0.08),\n",
       " ('USC00519281', '2017-05-29', 0.4),\n",
       " ('USC00519281', '2017-05-30', 1.12),\n",
       " ('USC00519281', '2017-05-31', 0.25),\n",
       " ('USC00519281', '2017-06-01', 0.0),\n",
       " ('USC00519281', '2017-06-02', 0.09),\n",
       " ('USC00519281', '2017-06-03', 0.08),\n",
       " ('USC00519281', '2017-06-04', 0.13),\n",
       " ('USC00519281', '2017-06-05', 0.05),\n",
       " ('USC00519281', '2017-06-06', 0.0),\n",
       " ('USC00519281', '2017-06-07', 0.0),\n",
       " ('USC00519281', '2017-06-08', 0.0),\n",
       " ('USC00519281', '2017-06-09', 0.02),\n",
       " ('USC00519281', '2017-06-10', 0.62),\n",
       " ('USC00519281', '2017-06-11', 0.74),\n",
       " ('USC00519281', '2017-06-12', 0.24),\n",
       " ('USC00519281', '2017-06-13', 0.24),\n",
       " ('USC00519281', '2017-06-14', 0.22),\n",
       " ('USC00519281', '2017-06-15', 0.55),\n",
       " ('USC00519281', '2017-06-16', 0.06),\n",
       " ('USC00519281', '2017-06-17', 0.07),\n",
       " ('USC00519281', '2017-06-18', 0.24),\n",
       " ('USC00519281', '2017-06-19', 0.08),\n",
       " ('USC00519281', '2017-06-20', 0.0),\n",
       " ('USC00519281', '2017-06-21', 0.19),\n",
       " ('USC00519281', '2017-06-22', 0.06),\n",
       " ('USC00519281', '2017-06-23', 0.12),\n",
       " ('USC00519281', '2017-06-24', 0.36),\n",
       " ('USC00519281', '2017-06-25', 0.02),\n",
       " ('USC00519281', '2017-06-26', 0.06),\n",
       " ('USC00519281', '2017-06-27', 0.01),\n",
       " ('USC00519281', '2017-06-28', 0.0),\n",
       " ('USC00519281', '2017-06-29', 0.0),\n",
       " ('USC00519281', '2017-06-30', 0.01),\n",
       " ('USC00519281', '2017-07-01', 0.08),\n",
       " ('USC00519281', '2017-07-02', 0.15),\n",
       " ('USC00519281', '2017-07-03', 0.15),\n",
       " ('USC00519281', '2017-07-04', 0.08),\n",
       " ('USC00519281', '2017-07-05', 0.0),\n",
       " ('USC00519281', '2017-07-06', 0.0),\n",
       " ('USC00519281', '2017-07-07', 0.18),\n",
       " ('USC00519281', '2017-07-08', 0.0),\n",
       " ('USC00519281', '2017-07-09', 0.11),\n",
       " ('USC00519281', '2017-07-10', 0.02),\n",
       " ('USC00519281', '2017-07-11', 0.02),\n",
       " ('USC00519281', '2017-07-12', 0.28),\n",
       " ('USC00519281', '2017-07-13', 0.32),\n",
       " ('USC00519281', '2017-07-14', 0.2),\n",
       " ('USC00519281', '2017-07-15', 0.05),\n",
       " ('USC00519281', '2017-07-16', 0.1),\n",
       " ('USC00519281', '2017-07-17', 0.21),\n",
       " ('USC00519281', '2017-07-18', 0.05),\n",
       " ('USC00519281', '2017-07-19', 0.05),\n",
       " ('USC00519281', '2017-07-20', 0.06),\n",
       " ('USC00519281', '2017-07-21', 0.03),\n",
       " ('USC00519281', '2017-07-22', 0.2),\n",
       " ('USC00519281', '2017-07-23', 0.2),\n",
       " ('USC00519281', '2017-07-24', 0.61),\n",
       " ('USC00519281', '2017-07-25', 0.11),\n",
       " ('USC00519281', '2017-07-26', 0.12),\n",
       " ('USC00519281', '2017-07-27', 0.01),\n",
       " ('USC00519281', '2017-07-28', 0.09),\n",
       " ('USC00519281', '2017-07-29', 0.23),\n",
       " ('USC00519281', '2017-07-30', 0.0),\n",
       " ('USC00519281', '2017-07-31', 0.0),\n",
       " ('USC00519281', '2017-08-04', 0.0),\n",
       " ('USC00519281', '2017-08-05', 0.06),\n",
       " ('USC00519281', '2017-08-06', 0.0),\n",
       " ('USC00519281', '2017-08-13', 0.0),\n",
       " ('USC00519281', '2017-08-14', 0.0),\n",
       " ('USC00519281', '2017-08-15', 0.32),\n",
       " ('USC00519281', '2017-08-16', 0.12),\n",
       " ('USC00519281', '2017-08-17', 0.01),\n",
       " ('USC00519281', '2017-08-18', 0.06)]"
      ]
     },
     "execution_count": 29,
     "metadata": {},
     "output_type": "execute_result"
    }
   ],
   "source": [
    "# Choose the station with the highest number of temperature observations.\n",
    "# Query the last 12 months of temperature observation data for this station and plot the results as a histogram \n",
    "\n",
    "date = dt.datetime(2016, 8, 23)\n",
    "\n",
    "mostActiveStation = session.query(Measurement.station, Measurement.date, Measurement.prcp).\\\n",
    "    filter(Measurement.date > date).filter(Measurement.station == most_active).order_by(Measurement.date).all()\n",
    "mostActiveStation\n"
   ]
  },
  {
   "cell_type": "code",
   "execution_count": null,
   "metadata": {},
   "outputs": [],
   "source": [
    "#plot the results of the previous query as a histogram\n",
    "bins = 20\n",
    "\n",
    "x = \n",
    "y = .4 * x + np.random.randn(100000) + 5\n",
    "\n",
    "fig, axs = plt.subplots(1, 2, sharey=True, tight_layout=True)\n",
    "\n",
    "axs[0].hist(x, bins=n_bins)\n",
    "axs[1].hist(y, bins=n_bins)"
   ]
  },
  {
   "cell_type": "markdown",
   "metadata": {},
   "source": [
    "![precipitation](Images/station-histogram.png)"
   ]
  },
  {
   "cell_type": "code",
   "execution_count": 26,
   "metadata": {},
   "outputs": [
    {
     "name": "stdout",
     "output_type": "stream",
     "text": [
      "[(62.0, 69.57142857142857, 74.0)]\n"
     ]
    }
   ],
   "source": [
    "# This function called `calc_temps` will accept start date and end date in the format '%Y-%m-%d' \n",
    "# and return the minimum, average, and maximum temperatures for that range of dates\n",
    "def calc_temps(start_date, end_date):\n",
    "    \"\"\"TMIN, TAVG, and TMAX for a list of dates.\n",
    "    \n",
    "    Args:\n",
    "        start_date (string): A date string in the format %Y-%m-%d\n",
    "        end_date (string): A date string in the format %Y-%m-%d\n",
    "        \n",
    "    Returns:\n",
    "        TMIN, TAVE, and TMAX\n",
    "    \"\"\"\n",
    "    \n",
    "    return session.query(func.min(Measurement.tobs), func.avg(Measurement.tobs), func.max(Measurement.tobs)).\\\n",
    "        filter(Measurement.date >= start_date).filter(Measurement.date <= end_date).all()\n",
    "\n",
    "# function usage example\n",
    "print(calc_temps('2012-02-28', '2012-03-05'))"
   ]
  },
  {
   "cell_type": "code",
   "execution_count": 27,
   "metadata": {},
   "outputs": [
    {
     "name": "stdout",
     "output_type": "stream",
     "text": [
      "[(65.0, 72.64150943396227, 78.0)]\n"
     ]
    }
   ],
   "source": [
    "# Use your previous function `calc_temps` to calculate the tmin, tavg, and tmax \n",
    "# for your trip using the previous year's data for those same dates.\n",
    "print(calc_temps('2016-04-01','2016-04-08'))"
   ]
  }
 ],
 "metadata": {
  "kernel_info": {
   "name": "python3"
  },
  "kernelspec": {
   "display_name": "Python 3",
   "language": "python",
   "name": "python3"
  },
  "language_info": {
   "codemirror_mode": {
    "name": "ipython",
    "version": 3
   },
   "file_extension": ".py",
   "mimetype": "text/x-python",
   "name": "python",
   "nbconvert_exporter": "python",
   "pygments_lexer": "ipython3",
   "version": "3.7.2"
  },
  "nteract": {
   "version": "0.12.3"
  },
  "varInspector": {
   "cols": {
    "lenName": 16,
    "lenType": 16,
    "lenVar": 40
   },
   "kernels_config": {
    "python": {
     "delete_cmd_postfix": "",
     "delete_cmd_prefix": "del ",
     "library": "var_list.py",
     "varRefreshCmd": "print(var_dic_list())"
    },
    "r": {
     "delete_cmd_postfix": ") ",
     "delete_cmd_prefix": "rm(",
     "library": "var_list.r",
     "varRefreshCmd": "cat(var_dic_list()) "
    }
   },
   "types_to_exclude": [
    "module",
    "function",
    "builtin_function_or_method",
    "instance",
    "_Feature"
   ],
   "window_display": false
  }
 },
 "nbformat": 4,
 "nbformat_minor": 2
}
